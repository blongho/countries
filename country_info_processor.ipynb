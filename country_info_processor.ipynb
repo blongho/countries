{
  "cells": [
    {
      "cell_type": "markdown",
      "metadata": {
        "id": "view-in-github",
        "colab_type": "text"
      },
      "source": [
        "<a href=\"https://colab.research.google.com/github/blongho/countries/blob/master/country_info_processor.ipynb\" target=\"_parent\"><img src=\"https://colab.research.google.com/assets/colab-badge.svg\" alt=\"Open In Colab\"/></a>"
      ]
    },
    {
      "cell_type": "code",
      "execution_count": 1,
      "metadata": {
        "id": "yiQr4x5YZ7gS"
      },
      "outputs": [],
      "source": [
        "import pandas as pd\n",
        "import requests\n",
        "import os\n",
        "import io"
      ]
    },
    {
      "cell_type": "code",
      "execution_count": 2,
      "metadata": {
        "id": "is-A54ZSZ7gV"
      },
      "outputs": [],
      "source": [
        "# The web url for country info\n",
        "countryinfo_url = \"https://download.geonames.org/export/dump/countryInfo.txt\""
      ]
    },
    {
      "cell_type": "code",
      "execution_count": 3,
      "metadata": {
        "colab": {
          "base_uri": "https://localhost:8080/"
        },
        "id": "qfjn4aMDZ7gW",
        "outputId": "edf8cfd9-bbbf-43b8-f8fa-45e85cb99ec7"
      },
      "outputs": [
        {
          "output_type": "execute_result",
          "data": {
            "text/plain": [
              "['alpha2',\n",
              " 'alpha3',\n",
              " 'id',\n",
              " 'fips',\n",
              " 'name',\n",
              " 'capital',\n",
              " 'area',\n",
              " 'population',\n",
              " 'continent',\n",
              " 'tld',\n",
              " 'currency_code',\n",
              " 'currency_name',\n",
              " 'phone',\n",
              " 'Postal_Code_Format',\n",
              " 'Postal_Code_Regex',\n",
              " 'languages',\n",
              " 'geonameid',\n",
              " 'neighbours',\n",
              " 'EquivalentFipsCode']"
            ]
          },
          "metadata": {},
          "execution_count": 3
        }
      ],
      "source": [
        "# The headers. Check the weburl above\n",
        "country_data_cols = ['alpha2','alpha3','id','fips','name','capital','area',\n",
        "'population','continent','tld','currency_code','currency_name','phone',\n",
        "'Postal_Code_Format','Postal_Code_Regex','languages',\n",
        "'geonameid','neighbours','EquivalentFipsCode']\n",
        "\n",
        "country_data_cols"
      ]
    },
    {
      "cell_type": "code",
      "execution_count": 4,
      "metadata": {
        "id": "5-3UvgShZ7gX"
      },
      "outputs": [],
      "source": [
        "# Get the text data from the url\n",
        "text = requests.get(countryinfo_url).text"
      ]
    },
    {
      "cell_type": "markdown",
      "metadata": {
        "id": "kNqDysMVZ7gX"
      },
      "source": [
        "## Read the country data"
      ]
    },
    {
      "cell_type": "code",
      "execution_count": 5,
      "metadata": {
        "id": "uGwTMGRnZ7gY"
      },
      "outputs": [],
      "source": [
        "# read the countries info\n",
        "# There are some comments at the beginning of the file. After looking at it,\n",
        "# 50 rows are skipped to avoid the comments cluttering the 'usefull' data\n",
        "countries = pd.read_csv(io.StringIO(text), skiprows=50, sep='\\t', names=country_data_cols)"
      ]
    },
    {
      "cell_type": "code",
      "execution_count": 6,
      "metadata": {
        "colab": {
          "base_uri": "https://localhost:8080/",
          "height": 374
        },
        "id": "lp-wTHFjZ7gZ",
        "outputId": "579b991f-af6a-45fe-fe57-2cbe18fdccce"
      },
      "outputs": [
        {
          "output_type": "execute_result",
          "data": {
            "text/plain": [
              "  alpha2 alpha3   id fips                  name           capital      area  \\\n",
              "0     AD    AND   20   AN               Andorra  Andorra la Vella     468.0   \n",
              "1     AE    ARE  784   AE  United Arab Emirates         Abu Dhabi   82880.0   \n",
              "2     AF    AFG    4   AF           Afghanistan             Kabul  647500.0   \n",
              "3     AG    ATG   28   AC   Antigua and Barbuda        St. John's     443.0   \n",
              "4     AI    AIA  660   AV              Anguilla        The Valley     102.0   \n",
              "\n",
              "   population continent  tld currency_code currency_name   phone  \\\n",
              "0       77006        EU  .ad           EUR          Euro     376   \n",
              "1     9630959        AS  .ae           AED        Dirham     971   \n",
              "2    37172386        AS  .af           AFN       Afghani      93   \n",
              "3       96286       NaN  .ag           XCD        Dollar  +1-268   \n",
              "4       13254       NaN  .ai           XCD        Dollar  +1-264   \n",
              "\n",
              "  Postal_Code_Format Postal_Code_Regex          languages  geonameid  \\\n",
              "0              AD###  ^(?:AD)*(\\d{3})$                 ca    3041565   \n",
              "1                NaN               NaN  ar-AE,fa,en,hi,ur     290557   \n",
              "2                NaN               NaN  fa-AF,ps,uz-AF,tk    1149361   \n",
              "3                NaN               NaN              en-AG    3576396   \n",
              "4                NaN               NaN              en-AI    3573511   \n",
              "\n",
              "          neighbours EquivalentFipsCode  \n",
              "0              ES,FR                NaN  \n",
              "1              SA,OM                NaN  \n",
              "2  TM,CN,IR,TJ,PK,UZ                NaN  \n",
              "3                NaN                NaN  \n",
              "4                NaN                NaN  "
            ],
            "text/html": [
              "\n",
              "  <div id=\"df-b61900de-736a-4410-b96a-559fbefa9584\">\n",
              "    <div class=\"colab-df-container\">\n",
              "      <div>\n",
              "<style scoped>\n",
              "    .dataframe tbody tr th:only-of-type {\n",
              "        vertical-align: middle;\n",
              "    }\n",
              "\n",
              "    .dataframe tbody tr th {\n",
              "        vertical-align: top;\n",
              "    }\n",
              "\n",
              "    .dataframe thead th {\n",
              "        text-align: right;\n",
              "    }\n",
              "</style>\n",
              "<table border=\"1\" class=\"dataframe\">\n",
              "  <thead>\n",
              "    <tr style=\"text-align: right;\">\n",
              "      <th></th>\n",
              "      <th>alpha2</th>\n",
              "      <th>alpha3</th>\n",
              "      <th>id</th>\n",
              "      <th>fips</th>\n",
              "      <th>name</th>\n",
              "      <th>capital</th>\n",
              "      <th>area</th>\n",
              "      <th>population</th>\n",
              "      <th>continent</th>\n",
              "      <th>tld</th>\n",
              "      <th>currency_code</th>\n",
              "      <th>currency_name</th>\n",
              "      <th>phone</th>\n",
              "      <th>Postal_Code_Format</th>\n",
              "      <th>Postal_Code_Regex</th>\n",
              "      <th>languages</th>\n",
              "      <th>geonameid</th>\n",
              "      <th>neighbours</th>\n",
              "      <th>EquivalentFipsCode</th>\n",
              "    </tr>\n",
              "  </thead>\n",
              "  <tbody>\n",
              "    <tr>\n",
              "      <th>0</th>\n",
              "      <td>AD</td>\n",
              "      <td>AND</td>\n",
              "      <td>20</td>\n",
              "      <td>AN</td>\n",
              "      <td>Andorra</td>\n",
              "      <td>Andorra la Vella</td>\n",
              "      <td>468.0</td>\n",
              "      <td>77006</td>\n",
              "      <td>EU</td>\n",
              "      <td>.ad</td>\n",
              "      <td>EUR</td>\n",
              "      <td>Euro</td>\n",
              "      <td>376</td>\n",
              "      <td>AD###</td>\n",
              "      <td>^(?:AD)*(\\d{3})$</td>\n",
              "      <td>ca</td>\n",
              "      <td>3041565</td>\n",
              "      <td>ES,FR</td>\n",
              "      <td>NaN</td>\n",
              "    </tr>\n",
              "    <tr>\n",
              "      <th>1</th>\n",
              "      <td>AE</td>\n",
              "      <td>ARE</td>\n",
              "      <td>784</td>\n",
              "      <td>AE</td>\n",
              "      <td>United Arab Emirates</td>\n",
              "      <td>Abu Dhabi</td>\n",
              "      <td>82880.0</td>\n",
              "      <td>9630959</td>\n",
              "      <td>AS</td>\n",
              "      <td>.ae</td>\n",
              "      <td>AED</td>\n",
              "      <td>Dirham</td>\n",
              "      <td>971</td>\n",
              "      <td>NaN</td>\n",
              "      <td>NaN</td>\n",
              "      <td>ar-AE,fa,en,hi,ur</td>\n",
              "      <td>290557</td>\n",
              "      <td>SA,OM</td>\n",
              "      <td>NaN</td>\n",
              "    </tr>\n",
              "    <tr>\n",
              "      <th>2</th>\n",
              "      <td>AF</td>\n",
              "      <td>AFG</td>\n",
              "      <td>4</td>\n",
              "      <td>AF</td>\n",
              "      <td>Afghanistan</td>\n",
              "      <td>Kabul</td>\n",
              "      <td>647500.0</td>\n",
              "      <td>37172386</td>\n",
              "      <td>AS</td>\n",
              "      <td>.af</td>\n",
              "      <td>AFN</td>\n",
              "      <td>Afghani</td>\n",
              "      <td>93</td>\n",
              "      <td>NaN</td>\n",
              "      <td>NaN</td>\n",
              "      <td>fa-AF,ps,uz-AF,tk</td>\n",
              "      <td>1149361</td>\n",
              "      <td>TM,CN,IR,TJ,PK,UZ</td>\n",
              "      <td>NaN</td>\n",
              "    </tr>\n",
              "    <tr>\n",
              "      <th>3</th>\n",
              "      <td>AG</td>\n",
              "      <td>ATG</td>\n",
              "      <td>28</td>\n",
              "      <td>AC</td>\n",
              "      <td>Antigua and Barbuda</td>\n",
              "      <td>St. John's</td>\n",
              "      <td>443.0</td>\n",
              "      <td>96286</td>\n",
              "      <td>NaN</td>\n",
              "      <td>.ag</td>\n",
              "      <td>XCD</td>\n",
              "      <td>Dollar</td>\n",
              "      <td>+1-268</td>\n",
              "      <td>NaN</td>\n",
              "      <td>NaN</td>\n",
              "      <td>en-AG</td>\n",
              "      <td>3576396</td>\n",
              "      <td>NaN</td>\n",
              "      <td>NaN</td>\n",
              "    </tr>\n",
              "    <tr>\n",
              "      <th>4</th>\n",
              "      <td>AI</td>\n",
              "      <td>AIA</td>\n",
              "      <td>660</td>\n",
              "      <td>AV</td>\n",
              "      <td>Anguilla</td>\n",
              "      <td>The Valley</td>\n",
              "      <td>102.0</td>\n",
              "      <td>13254</td>\n",
              "      <td>NaN</td>\n",
              "      <td>.ai</td>\n",
              "      <td>XCD</td>\n",
              "      <td>Dollar</td>\n",
              "      <td>+1-264</td>\n",
              "      <td>NaN</td>\n",
              "      <td>NaN</td>\n",
              "      <td>en-AI</td>\n",
              "      <td>3573511</td>\n",
              "      <td>NaN</td>\n",
              "      <td>NaN</td>\n",
              "    </tr>\n",
              "  </tbody>\n",
              "</table>\n",
              "</div>\n",
              "      <button class=\"colab-df-convert\" onclick=\"convertToInteractive('df-b61900de-736a-4410-b96a-559fbefa9584')\"\n",
              "              title=\"Convert this dataframe to an interactive table.\"\n",
              "              style=\"display:none;\">\n",
              "        \n",
              "  <svg xmlns=\"http://www.w3.org/2000/svg\" height=\"24px\"viewBox=\"0 0 24 24\"\n",
              "       width=\"24px\">\n",
              "    <path d=\"M0 0h24v24H0V0z\" fill=\"none\"/>\n",
              "    <path d=\"M18.56 5.44l.94 2.06.94-2.06 2.06-.94-2.06-.94-.94-2.06-.94 2.06-2.06.94zm-11 1L8.5 8.5l.94-2.06 2.06-.94-2.06-.94L8.5 2.5l-.94 2.06-2.06.94zm10 10l.94 2.06.94-2.06 2.06-.94-2.06-.94-.94-2.06-.94 2.06-2.06.94z\"/><path d=\"M17.41 7.96l-1.37-1.37c-.4-.4-.92-.59-1.43-.59-.52 0-1.04.2-1.43.59L10.3 9.45l-7.72 7.72c-.78.78-.78 2.05 0 2.83L4 21.41c.39.39.9.59 1.41.59.51 0 1.02-.2 1.41-.59l7.78-7.78 2.81-2.81c.8-.78.8-2.07 0-2.86zM5.41 20L4 18.59l7.72-7.72 1.47 1.35L5.41 20z\"/>\n",
              "  </svg>\n",
              "      </button>\n",
              "      \n",
              "  <style>\n",
              "    .colab-df-container {\n",
              "      display:flex;\n",
              "      flex-wrap:wrap;\n",
              "      gap: 12px;\n",
              "    }\n",
              "\n",
              "    .colab-df-convert {\n",
              "      background-color: #E8F0FE;\n",
              "      border: none;\n",
              "      border-radius: 50%;\n",
              "      cursor: pointer;\n",
              "      display: none;\n",
              "      fill: #1967D2;\n",
              "      height: 32px;\n",
              "      padding: 0 0 0 0;\n",
              "      width: 32px;\n",
              "    }\n",
              "\n",
              "    .colab-df-convert:hover {\n",
              "      background-color: #E2EBFA;\n",
              "      box-shadow: 0px 1px 2px rgba(60, 64, 67, 0.3), 0px 1px 3px 1px rgba(60, 64, 67, 0.15);\n",
              "      fill: #174EA6;\n",
              "    }\n",
              "\n",
              "    [theme=dark] .colab-df-convert {\n",
              "      background-color: #3B4455;\n",
              "      fill: #D2E3FC;\n",
              "    }\n",
              "\n",
              "    [theme=dark] .colab-df-convert:hover {\n",
              "      background-color: #434B5C;\n",
              "      box-shadow: 0px 1px 3px 1px rgba(0, 0, 0, 0.15);\n",
              "      filter: drop-shadow(0px 1px 2px rgba(0, 0, 0, 0.3));\n",
              "      fill: #FFFFFF;\n",
              "    }\n",
              "  </style>\n",
              "\n",
              "      <script>\n",
              "        const buttonEl =\n",
              "          document.querySelector('#df-b61900de-736a-4410-b96a-559fbefa9584 button.colab-df-convert');\n",
              "        buttonEl.style.display =\n",
              "          google.colab.kernel.accessAllowed ? 'block' : 'none';\n",
              "\n",
              "        async function convertToInteractive(key) {\n",
              "          const element = document.querySelector('#df-b61900de-736a-4410-b96a-559fbefa9584');\n",
              "          const dataTable =\n",
              "            await google.colab.kernel.invokeFunction('convertToInteractive',\n",
              "                                                     [key], {});\n",
              "          if (!dataTable) return;\n",
              "\n",
              "          const docLinkHtml = 'Like what you see? Visit the ' +\n",
              "            '<a target=\"_blank\" href=https://colab.research.google.com/notebooks/data_table.ipynb>data table notebook</a>'\n",
              "            + ' to learn more about interactive tables.';\n",
              "          element.innerHTML = '';\n",
              "          dataTable['output_type'] = 'display_data';\n",
              "          await google.colab.output.renderOutput(dataTable, element);\n",
              "          const docLink = document.createElement('div');\n",
              "          docLink.innerHTML = docLinkHtml;\n",
              "          element.appendChild(docLink);\n",
              "        }\n",
              "      </script>\n",
              "    </div>\n",
              "  </div>\n",
              "  "
            ]
          },
          "metadata": {},
          "execution_count": 6
        }
      ],
      "source": [
        "countries.head()"
      ]
    },
    {
      "cell_type": "code",
      "execution_count": 7,
      "metadata": {
        "id": "ZI-NL_qcZ7gZ"
      },
      "outputs": [],
      "source": [
        "# Drop non-useful columns\n",
        "countries = countries.drop(columns=['Postal_Code_Format','Postal_Code_Regex','geonameid','EquivalentFipsCode','fips'])"
      ]
    },
    {
      "cell_type": "code",
      "source": [
        ""
      ],
      "metadata": {
        "id": "SSoJpE4lWA1V"
      },
      "execution_count": 7,
      "outputs": []
    },
    {
      "cell_type": "markdown",
      "metadata": {
        "id": "HInO8NlcZ7ga"
      },
      "source": [
        "## Append the Currency symbols to the currency"
      ]
    },
    {
      "cell_type": "code",
      "execution_count": 8,
      "metadata": {
        "id": "dlQgq3wKZ7ga"
      },
      "outputs": [],
      "source": [
        "from bs4 import BeautifulSoup\n",
        "import json"
      ]
    },
    {
      "cell_type": "code",
      "execution_count": 9,
      "metadata": {
        "id": "f5yKBEfOZ7gb"
      },
      "outputs": [],
      "source": [
        "# currencies page \n",
        "currencies_url = 'https://en.wikipedia.org/wiki/List_of_circulating_currencies'"
      ]
    },
    {
      "cell_type": "code",
      "execution_count": 10,
      "metadata": {
        "id": "7K76KNIGZ7gb"
      },
      "outputs": [],
      "source": [
        "currency_text = requests.get(currencies_url)"
      ]
    },
    {
      "cell_type": "code",
      "execution_count": 11,
      "metadata": {
        "id": "AL22OkkiZ7gc"
      },
      "outputs": [],
      "source": [
        "soup = BeautifulSoup(currency_text.content, 'html.parser')"
      ]
    },
    {
      "cell_type": "code",
      "execution_count": 12,
      "metadata": {
        "colab": {
          "base_uri": "https://localhost:8080/"
        },
        "id": "NkcXN_tVZ7gc",
        "outputId": "95ad024a-867f-414c-eba9-e4303f1084fe"
      },
      "outputs": [
        {
          "output_type": "execute_result",
          "data": {
            "text/plain": [
              "267"
            ]
          },
          "metadata": {},
          "execution_count": 12
        }
      ],
      "source": [
        "trows = rows = soup.tbody.find_all('tr')\n",
        "len(trows)"
      ]
    },
    {
      "cell_type": "code",
      "execution_count": 13,
      "metadata": {
        "id": "695GrJhuZ7gc"
      },
      "outputs": [],
      "source": [
        "from collections import namedtuple\n",
        "\n",
        "Currency = namedtuple('Currency', ['CurrencyCode', 'CurrencyName', 'CurrencySymbol'])"
      ]
    },
    {
      "cell_type": "code",
      "execution_count": 14,
      "metadata": {
        "id": "uo2_MXilZ7gd"
      },
      "outputs": [],
      "source": [
        "col_data = []\n",
        "for row in trows:\n",
        "    cols = row.find_all('td')\n",
        "    cols = [ele.text.strip() for ele in cols]\n",
        "    if len(cols) > 0:\n",
        "        code = str(cols[3]).replace('[','').replace(']','')\n",
        "        if not code.__contains__('none'):\n",
        "            col_data.append(Currency(CurrencyCode=code,CurrencyName=cols[1], CurrencySymbol=cols[2]))"
      ]
    },
    {
      "cell_type": "code",
      "execution_count": 15,
      "metadata": {
        "id": "kiNDRBMuZ7gd"
      },
      "outputs": [],
      "source": [
        "currencies = pd.DataFrame(data=col_data, columns=['CurrencyCode','CurrencyName', 'CurrencySymbol'])"
      ]
    },
    {
      "cell_type": "code",
      "execution_count": 16,
      "metadata": {
        "colab": {
          "base_uri": "https://localhost:8080/",
          "height": 300
        },
        "id": "teijASwfZ7gd",
        "outputId": "8a2408bb-222f-4565-940d-18f58e3b1587"
      },
      "outputs": [
        {
          "output_type": "execute_result",
          "data": {
            "text/plain": [
              "    CurrencyCode            CurrencyName CurrencySymbol\n",
              "26           XOF  West African CFA franc             Fr\n",
              "40           XOF  West African CFA franc             Fr\n",
              "59           XOF  West African CFA franc             Fr\n",
              "102          XOF  West African CFA franc             Fr\n",
              "148          XOF  West African CFA franc             Fr\n",
              "171          XOF  West African CFA franc             Fr\n",
              "210          XOF  West African CFA franc             Fr\n",
              "237          XOF  West African CFA franc             Fr"
            ],
            "text/html": [
              "\n",
              "  <div id=\"df-a9cb0282-ed1f-4b98-a5f7-ee398ab12a68\">\n",
              "    <div class=\"colab-df-container\">\n",
              "      <div>\n",
              "<style scoped>\n",
              "    .dataframe tbody tr th:only-of-type {\n",
              "        vertical-align: middle;\n",
              "    }\n",
              "\n",
              "    .dataframe tbody tr th {\n",
              "        vertical-align: top;\n",
              "    }\n",
              "\n",
              "    .dataframe thead th {\n",
              "        text-align: right;\n",
              "    }\n",
              "</style>\n",
              "<table border=\"1\" class=\"dataframe\">\n",
              "  <thead>\n",
              "    <tr style=\"text-align: right;\">\n",
              "      <th></th>\n",
              "      <th>CurrencyCode</th>\n",
              "      <th>CurrencyName</th>\n",
              "      <th>CurrencySymbol</th>\n",
              "    </tr>\n",
              "  </thead>\n",
              "  <tbody>\n",
              "    <tr>\n",
              "      <th>26</th>\n",
              "      <td>XOF</td>\n",
              "      <td>West African CFA franc</td>\n",
              "      <td>Fr</td>\n",
              "    </tr>\n",
              "    <tr>\n",
              "      <th>40</th>\n",
              "      <td>XOF</td>\n",
              "      <td>West African CFA franc</td>\n",
              "      <td>Fr</td>\n",
              "    </tr>\n",
              "    <tr>\n",
              "      <th>59</th>\n",
              "      <td>XOF</td>\n",
              "      <td>West African CFA franc</td>\n",
              "      <td>Fr</td>\n",
              "    </tr>\n",
              "    <tr>\n",
              "      <th>102</th>\n",
              "      <td>XOF</td>\n",
              "      <td>West African CFA franc</td>\n",
              "      <td>Fr</td>\n",
              "    </tr>\n",
              "    <tr>\n",
              "      <th>148</th>\n",
              "      <td>XOF</td>\n",
              "      <td>West African CFA franc</td>\n",
              "      <td>Fr</td>\n",
              "    </tr>\n",
              "    <tr>\n",
              "      <th>171</th>\n",
              "      <td>XOF</td>\n",
              "      <td>West African CFA franc</td>\n",
              "      <td>Fr</td>\n",
              "    </tr>\n",
              "    <tr>\n",
              "      <th>210</th>\n",
              "      <td>XOF</td>\n",
              "      <td>West African CFA franc</td>\n",
              "      <td>Fr</td>\n",
              "    </tr>\n",
              "    <tr>\n",
              "      <th>237</th>\n",
              "      <td>XOF</td>\n",
              "      <td>West African CFA franc</td>\n",
              "      <td>Fr</td>\n",
              "    </tr>\n",
              "  </tbody>\n",
              "</table>\n",
              "</div>\n",
              "      <button class=\"colab-df-convert\" onclick=\"convertToInteractive('df-a9cb0282-ed1f-4b98-a5f7-ee398ab12a68')\"\n",
              "              title=\"Convert this dataframe to an interactive table.\"\n",
              "              style=\"display:none;\">\n",
              "        \n",
              "  <svg xmlns=\"http://www.w3.org/2000/svg\" height=\"24px\"viewBox=\"0 0 24 24\"\n",
              "       width=\"24px\">\n",
              "    <path d=\"M0 0h24v24H0V0z\" fill=\"none\"/>\n",
              "    <path d=\"M18.56 5.44l.94 2.06.94-2.06 2.06-.94-2.06-.94-.94-2.06-.94 2.06-2.06.94zm-11 1L8.5 8.5l.94-2.06 2.06-.94-2.06-.94L8.5 2.5l-.94 2.06-2.06.94zm10 10l.94 2.06.94-2.06 2.06-.94-2.06-.94-.94-2.06-.94 2.06-2.06.94z\"/><path d=\"M17.41 7.96l-1.37-1.37c-.4-.4-.92-.59-1.43-.59-.52 0-1.04.2-1.43.59L10.3 9.45l-7.72 7.72c-.78.78-.78 2.05 0 2.83L4 21.41c.39.39.9.59 1.41.59.51 0 1.02-.2 1.41-.59l7.78-7.78 2.81-2.81c.8-.78.8-2.07 0-2.86zM5.41 20L4 18.59l7.72-7.72 1.47 1.35L5.41 20z\"/>\n",
              "  </svg>\n",
              "      </button>\n",
              "      \n",
              "  <style>\n",
              "    .colab-df-container {\n",
              "      display:flex;\n",
              "      flex-wrap:wrap;\n",
              "      gap: 12px;\n",
              "    }\n",
              "\n",
              "    .colab-df-convert {\n",
              "      background-color: #E8F0FE;\n",
              "      border: none;\n",
              "      border-radius: 50%;\n",
              "      cursor: pointer;\n",
              "      display: none;\n",
              "      fill: #1967D2;\n",
              "      height: 32px;\n",
              "      padding: 0 0 0 0;\n",
              "      width: 32px;\n",
              "    }\n",
              "\n",
              "    .colab-df-convert:hover {\n",
              "      background-color: #E2EBFA;\n",
              "      box-shadow: 0px 1px 2px rgba(60, 64, 67, 0.3), 0px 1px 3px 1px rgba(60, 64, 67, 0.15);\n",
              "      fill: #174EA6;\n",
              "    }\n",
              "\n",
              "    [theme=dark] .colab-df-convert {\n",
              "      background-color: #3B4455;\n",
              "      fill: #D2E3FC;\n",
              "    }\n",
              "\n",
              "    [theme=dark] .colab-df-convert:hover {\n",
              "      background-color: #434B5C;\n",
              "      box-shadow: 0px 1px 3px 1px rgba(0, 0, 0, 0.15);\n",
              "      filter: drop-shadow(0px 1px 2px rgba(0, 0, 0, 0.3));\n",
              "      fill: #FFFFFF;\n",
              "    }\n",
              "  </style>\n",
              "\n",
              "      <script>\n",
              "        const buttonEl =\n",
              "          document.querySelector('#df-a9cb0282-ed1f-4b98-a5f7-ee398ab12a68 button.colab-df-convert');\n",
              "        buttonEl.style.display =\n",
              "          google.colab.kernel.accessAllowed ? 'block' : 'none';\n",
              "\n",
              "        async function convertToInteractive(key) {\n",
              "          const element = document.querySelector('#df-a9cb0282-ed1f-4b98-a5f7-ee398ab12a68');\n",
              "          const dataTable =\n",
              "            await google.colab.kernel.invokeFunction('convertToInteractive',\n",
              "                                                     [key], {});\n",
              "          if (!dataTable) return;\n",
              "\n",
              "          const docLinkHtml = 'Like what you see? Visit the ' +\n",
              "            '<a target=\"_blank\" href=https://colab.research.google.com/notebooks/data_table.ipynb>data table notebook</a>'\n",
              "            + ' to learn more about interactive tables.';\n",
              "          element.innerHTML = '';\n",
              "          dataTable['output_type'] = 'display_data';\n",
              "          await google.colab.output.renderOutput(dataTable, element);\n",
              "          const docLink = document.createElement('div');\n",
              "          docLink.innerHTML = docLinkHtml;\n",
              "          element.appendChild(docLink);\n",
              "        }\n",
              "      </script>\n",
              "    </div>\n",
              "  </div>\n",
              "  "
            ]
          },
          "metadata": {},
          "execution_count": 16
        }
      ],
      "source": [
        "cu = currencies[currencies['CurrencyCode'] == 'XOF']\n",
        "cu"
      ]
    },
    {
      "cell_type": "code",
      "execution_count": 17,
      "metadata": {
        "id": "HFQQGTAgZ7gd"
      },
      "outputs": [],
      "source": [
        "country_list = countries.values.tolist()"
      ]
    },
    {
      "cell_type": "code",
      "execution_count": 18,
      "metadata": {
        "colab": {
          "base_uri": "https://localhost:8080/"
        },
        "id": "x7YbM4jrZ7ge",
        "outputId": "87b7883d-0692-4b28-e165-f24febf61e4c"
      },
      "outputs": [
        {
          "output_type": "execute_result",
          "data": {
            "text/plain": [
              "['AD',\n",
              " 'AND',\n",
              " 20,\n",
              " 'Andorra',\n",
              " 'Andorra la Vella',\n",
              " 468.0,\n",
              " 77006,\n",
              " 'EU',\n",
              " '.ad',\n",
              " 'EUR',\n",
              " 'Euro',\n",
              " '376',\n",
              " 'ca',\n",
              " 'ES,FR']"
            ]
          },
          "metadata": {},
          "execution_count": 18
        }
      ],
      "source": [
        "country_list[0]"
      ]
    },
    {
      "cell_type": "code",
      "execution_count": 19,
      "metadata": {
        "id": "lP5g06GNZ7ge"
      },
      "outputs": [],
      "source": [
        "def getCurrencySymbolAndName(currency_code:str, currency_list:list)->str:\n",
        "    \"\"\"Get the currency symbol from the currency code\n",
        "\n",
        "    Args:\n",
        "        currency_code (str): The currecy code for which the symbol belongs\n",
        "        currency_list (list): A list of all the currencies\n",
        "\n",
        "    Returns:\n",
        "        str: The currency symbol if it exists. Otherwise, None is returned\n",
        "    \"\"\"\n",
        "    for curr in currency_list:\n",
        "        if curr.CurrencyCode == currency_code:\n",
        "            return [curr.CurrencySymbol, curr.CurrencyName]\n",
        "    return None "
      ]
    },
    {
      "cell_type": "code",
      "execution_count": 20,
      "metadata": {
        "id": "ILPDuIjPZ7ge"
      },
      "outputs": [],
      "source": [
        "for country in country_list:\n",
        "    currency_code = country[9]\n",
        "    currency_data = getCurrencySymbolAndName(currency_code=currency_code, currency_list=col_data)\n",
        "    #print(currency_data)\n",
        "    if currency_data is not None:\n",
        "      currency_symbol = currency_data[0]\n",
        "      currency_name = currency_data[1]\n",
        "      country[10] = currency_name\n",
        "    #print(currency_code, currency_symbol)\n",
        "      country.append(currency_symbol)\n",
        "     "
      ]
    },
    {
      "cell_type": "code",
      "execution_count": 21,
      "metadata": {
        "colab": {
          "base_uri": "https://localhost:8080/"
        },
        "id": "9jidwr-BZ7gf",
        "outputId": "60f43a1e-4ce0-4fbf-cbf0-ef74e3ee78b9"
      },
      "outputs": [
        {
          "output_type": "execute_result",
          "data": {
            "text/plain": [
              "['CL',\n",
              " 'CHL',\n",
              " 152,\n",
              " 'Chile',\n",
              " 'Santiago',\n",
              " 756950.0,\n",
              " 18729160,\n",
              " 'SA',\n",
              " '.cl',\n",
              " 'CLP',\n",
              " 'Chilean peso',\n",
              " '56',\n",
              " 'es-CL',\n",
              " 'PE,BO,AR',\n",
              " '$']"
            ]
          },
          "metadata": {},
          "execution_count": 21
        }
      ],
      "source": [
        "country_list[45]"
      ]
    },
    {
      "cell_type": "code",
      "execution_count": 22,
      "metadata": {
        "id": "DGRtZZNZZ7gf"
      },
      "outputs": [],
      "source": [
        "cols = ['alpha2', 'alpha3', 'id',  'name', 'capital', 'area',\n",
        "       'population', 'continent', 'tld', 'currency_code', 'currency_name',\n",
        "       'phone', 'languages', 'neighbours','currency_symbol']"
      ]
    },
    {
      "cell_type": "code",
      "execution_count": 23,
      "metadata": {
        "id": "NyH9rXyjZ7gf"
      },
      "outputs": [],
      "source": [
        "countries = pd.DataFrame(data=country_list, columns=cols)"
      ]
    },
    {
      "cell_type": "code",
      "execution_count": 24,
      "metadata": {
        "id": "-d-PtinzZ7gf"
      },
      "outputs": [],
      "source": [
        "cols_ordered = ['alpha2', 'alpha3', 'id',  'name', 'capital', 'area',\n",
        "       'population', 'continent', 'tld', 'currency_code', 'currency_name','currency_symbol',\n",
        "       'phone', 'languages', 'neighbours']"
      ]
    },
    {
      "cell_type": "code",
      "execution_count": 25,
      "metadata": {
        "id": "d4NL5CsvZ7gg"
      },
      "outputs": [],
      "source": [
        "countries = countries[cols_ordered]"
      ]
    },
    {
      "cell_type": "code",
      "execution_count": 26,
      "metadata": {
        "colab": {
          "base_uri": "https://localhost:8080/",
          "height": 374
        },
        "id": "fT5UKyKpZ7gg",
        "outputId": "d67b182b-8a5d-4455-ecb0-38fe73bff03d"
      },
      "outputs": [
        {
          "output_type": "execute_result",
          "data": {
            "text/plain": [
              "  alpha2 alpha3   id                  name           capital      area  \\\n",
              "0     AD    AND   20               Andorra  Andorra la Vella     468.0   \n",
              "1     AE    ARE  784  United Arab Emirates         Abu Dhabi   82880.0   \n",
              "2     AF    AFG    4           Afghanistan             Kabul  647500.0   \n",
              "3     AG    ATG   28   Antigua and Barbuda        St. John's     443.0   \n",
              "4     AI    AIA  660              Anguilla        The Valley     102.0   \n",
              "\n",
              "   population continent  tld currency_code                currency_name  \\\n",
              "0       77006        EU  .ad           EUR                         Euro   \n",
              "1     9630959        AS  .ae           AED  United Arab Emirates dirham   \n",
              "2    37172386        AS  .af           AFN               Afghan afghani   \n",
              "3       96286       NaN  .ag           XCD     Eastern Caribbean dollar   \n",
              "4       13254       NaN  .ai           XCD     Eastern Caribbean dollar   \n",
              "\n",
              "  currency_symbol   phone          languages         neighbours  \n",
              "0               €     376                 ca              ES,FR  \n",
              "1             د.إ     971  ar-AE,fa,en,hi,ur              SA,OM  \n",
              "2               ؋      93  fa-AF,ps,uz-AF,tk  TM,CN,IR,TJ,PK,UZ  \n",
              "3               $  +1-268              en-AG                NaN  \n",
              "4               $  +1-264              en-AI                NaN  "
            ],
            "text/html": [
              "\n",
              "  <div id=\"df-56d8c9f4-ca0c-44c6-9382-7add871e0bce\">\n",
              "    <div class=\"colab-df-container\">\n",
              "      <div>\n",
              "<style scoped>\n",
              "    .dataframe tbody tr th:only-of-type {\n",
              "        vertical-align: middle;\n",
              "    }\n",
              "\n",
              "    .dataframe tbody tr th {\n",
              "        vertical-align: top;\n",
              "    }\n",
              "\n",
              "    .dataframe thead th {\n",
              "        text-align: right;\n",
              "    }\n",
              "</style>\n",
              "<table border=\"1\" class=\"dataframe\">\n",
              "  <thead>\n",
              "    <tr style=\"text-align: right;\">\n",
              "      <th></th>\n",
              "      <th>alpha2</th>\n",
              "      <th>alpha3</th>\n",
              "      <th>id</th>\n",
              "      <th>name</th>\n",
              "      <th>capital</th>\n",
              "      <th>area</th>\n",
              "      <th>population</th>\n",
              "      <th>continent</th>\n",
              "      <th>tld</th>\n",
              "      <th>currency_code</th>\n",
              "      <th>currency_name</th>\n",
              "      <th>currency_symbol</th>\n",
              "      <th>phone</th>\n",
              "      <th>languages</th>\n",
              "      <th>neighbours</th>\n",
              "    </tr>\n",
              "  </thead>\n",
              "  <tbody>\n",
              "    <tr>\n",
              "      <th>0</th>\n",
              "      <td>AD</td>\n",
              "      <td>AND</td>\n",
              "      <td>20</td>\n",
              "      <td>Andorra</td>\n",
              "      <td>Andorra la Vella</td>\n",
              "      <td>468.0</td>\n",
              "      <td>77006</td>\n",
              "      <td>EU</td>\n",
              "      <td>.ad</td>\n",
              "      <td>EUR</td>\n",
              "      <td>Euro</td>\n",
              "      <td>€</td>\n",
              "      <td>376</td>\n",
              "      <td>ca</td>\n",
              "      <td>ES,FR</td>\n",
              "    </tr>\n",
              "    <tr>\n",
              "      <th>1</th>\n",
              "      <td>AE</td>\n",
              "      <td>ARE</td>\n",
              "      <td>784</td>\n",
              "      <td>United Arab Emirates</td>\n",
              "      <td>Abu Dhabi</td>\n",
              "      <td>82880.0</td>\n",
              "      <td>9630959</td>\n",
              "      <td>AS</td>\n",
              "      <td>.ae</td>\n",
              "      <td>AED</td>\n",
              "      <td>United Arab Emirates dirham</td>\n",
              "      <td>د.إ</td>\n",
              "      <td>971</td>\n",
              "      <td>ar-AE,fa,en,hi,ur</td>\n",
              "      <td>SA,OM</td>\n",
              "    </tr>\n",
              "    <tr>\n",
              "      <th>2</th>\n",
              "      <td>AF</td>\n",
              "      <td>AFG</td>\n",
              "      <td>4</td>\n",
              "      <td>Afghanistan</td>\n",
              "      <td>Kabul</td>\n",
              "      <td>647500.0</td>\n",
              "      <td>37172386</td>\n",
              "      <td>AS</td>\n",
              "      <td>.af</td>\n",
              "      <td>AFN</td>\n",
              "      <td>Afghan afghani</td>\n",
              "      <td>؋</td>\n",
              "      <td>93</td>\n",
              "      <td>fa-AF,ps,uz-AF,tk</td>\n",
              "      <td>TM,CN,IR,TJ,PK,UZ</td>\n",
              "    </tr>\n",
              "    <tr>\n",
              "      <th>3</th>\n",
              "      <td>AG</td>\n",
              "      <td>ATG</td>\n",
              "      <td>28</td>\n",
              "      <td>Antigua and Barbuda</td>\n",
              "      <td>St. John's</td>\n",
              "      <td>443.0</td>\n",
              "      <td>96286</td>\n",
              "      <td>NaN</td>\n",
              "      <td>.ag</td>\n",
              "      <td>XCD</td>\n",
              "      <td>Eastern Caribbean dollar</td>\n",
              "      <td>$</td>\n",
              "      <td>+1-268</td>\n",
              "      <td>en-AG</td>\n",
              "      <td>NaN</td>\n",
              "    </tr>\n",
              "    <tr>\n",
              "      <th>4</th>\n",
              "      <td>AI</td>\n",
              "      <td>AIA</td>\n",
              "      <td>660</td>\n",
              "      <td>Anguilla</td>\n",
              "      <td>The Valley</td>\n",
              "      <td>102.0</td>\n",
              "      <td>13254</td>\n",
              "      <td>NaN</td>\n",
              "      <td>.ai</td>\n",
              "      <td>XCD</td>\n",
              "      <td>Eastern Caribbean dollar</td>\n",
              "      <td>$</td>\n",
              "      <td>+1-264</td>\n",
              "      <td>en-AI</td>\n",
              "      <td>NaN</td>\n",
              "    </tr>\n",
              "  </tbody>\n",
              "</table>\n",
              "</div>\n",
              "      <button class=\"colab-df-convert\" onclick=\"convertToInteractive('df-56d8c9f4-ca0c-44c6-9382-7add871e0bce')\"\n",
              "              title=\"Convert this dataframe to an interactive table.\"\n",
              "              style=\"display:none;\">\n",
              "        \n",
              "  <svg xmlns=\"http://www.w3.org/2000/svg\" height=\"24px\"viewBox=\"0 0 24 24\"\n",
              "       width=\"24px\">\n",
              "    <path d=\"M0 0h24v24H0V0z\" fill=\"none\"/>\n",
              "    <path d=\"M18.56 5.44l.94 2.06.94-2.06 2.06-.94-2.06-.94-.94-2.06-.94 2.06-2.06.94zm-11 1L8.5 8.5l.94-2.06 2.06-.94-2.06-.94L8.5 2.5l-.94 2.06-2.06.94zm10 10l.94 2.06.94-2.06 2.06-.94-2.06-.94-.94-2.06-.94 2.06-2.06.94z\"/><path d=\"M17.41 7.96l-1.37-1.37c-.4-.4-.92-.59-1.43-.59-.52 0-1.04.2-1.43.59L10.3 9.45l-7.72 7.72c-.78.78-.78 2.05 0 2.83L4 21.41c.39.39.9.59 1.41.59.51 0 1.02-.2 1.41-.59l7.78-7.78 2.81-2.81c.8-.78.8-2.07 0-2.86zM5.41 20L4 18.59l7.72-7.72 1.47 1.35L5.41 20z\"/>\n",
              "  </svg>\n",
              "      </button>\n",
              "      \n",
              "  <style>\n",
              "    .colab-df-container {\n",
              "      display:flex;\n",
              "      flex-wrap:wrap;\n",
              "      gap: 12px;\n",
              "    }\n",
              "\n",
              "    .colab-df-convert {\n",
              "      background-color: #E8F0FE;\n",
              "      border: none;\n",
              "      border-radius: 50%;\n",
              "      cursor: pointer;\n",
              "      display: none;\n",
              "      fill: #1967D2;\n",
              "      height: 32px;\n",
              "      padding: 0 0 0 0;\n",
              "      width: 32px;\n",
              "    }\n",
              "\n",
              "    .colab-df-convert:hover {\n",
              "      background-color: #E2EBFA;\n",
              "      box-shadow: 0px 1px 2px rgba(60, 64, 67, 0.3), 0px 1px 3px 1px rgba(60, 64, 67, 0.15);\n",
              "      fill: #174EA6;\n",
              "    }\n",
              "\n",
              "    [theme=dark] .colab-df-convert {\n",
              "      background-color: #3B4455;\n",
              "      fill: #D2E3FC;\n",
              "    }\n",
              "\n",
              "    [theme=dark] .colab-df-convert:hover {\n",
              "      background-color: #434B5C;\n",
              "      box-shadow: 0px 1px 3px 1px rgba(0, 0, 0, 0.15);\n",
              "      filter: drop-shadow(0px 1px 2px rgba(0, 0, 0, 0.3));\n",
              "      fill: #FFFFFF;\n",
              "    }\n",
              "  </style>\n",
              "\n",
              "      <script>\n",
              "        const buttonEl =\n",
              "          document.querySelector('#df-56d8c9f4-ca0c-44c6-9382-7add871e0bce button.colab-df-convert');\n",
              "        buttonEl.style.display =\n",
              "          google.colab.kernel.accessAllowed ? 'block' : 'none';\n",
              "\n",
              "        async function convertToInteractive(key) {\n",
              "          const element = document.querySelector('#df-56d8c9f4-ca0c-44c6-9382-7add871e0bce');\n",
              "          const dataTable =\n",
              "            await google.colab.kernel.invokeFunction('convertToInteractive',\n",
              "                                                     [key], {});\n",
              "          if (!dataTable) return;\n",
              "\n",
              "          const docLinkHtml = 'Like what you see? Visit the ' +\n",
              "            '<a target=\"_blank\" href=https://colab.research.google.com/notebooks/data_table.ipynb>data table notebook</a>'\n",
              "            + ' to learn more about interactive tables.';\n",
              "          element.innerHTML = '';\n",
              "          dataTable['output_type'] = 'display_data';\n",
              "          await google.colab.output.renderOutput(dataTable, element);\n",
              "          const docLink = document.createElement('div');\n",
              "          docLink.innerHTML = docLinkHtml;\n",
              "          element.appendChild(docLink);\n",
              "        }\n",
              "      </script>\n",
              "    </div>\n",
              "  </div>\n",
              "  "
            ]
          },
          "metadata": {},
          "execution_count": 26
        }
      ],
      "source": [
        "countries.head()"
      ]
    },
    {
      "cell_type": "code",
      "source": [
        "xaf_countries = countries[countries['currency_code']=='XAF']\n",
        "xaf_countries.shape"
      ],
      "metadata": {
        "colab": {
          "base_uri": "https://localhost:8080/"
        },
        "id": "EDx-tYE5kS6c",
        "outputId": "e0a4922e-4bd6-449c-8624-6fa07e85f26e"
      },
      "execution_count": 27,
      "outputs": [
        {
          "output_type": "execute_result",
          "data": {
            "text/plain": [
              "(6, 15)"
            ]
          },
          "metadata": {},
          "execution_count": 27
        }
      ]
    },
    {
      "cell_type": "code",
      "source": [
        "xaf_countries"
      ],
      "metadata": {
        "colab": {
          "base_uri": "https://localhost:8080/",
          "height": 440
        },
        "id": "y-YYwBasb0TC",
        "outputId": "d2d1b829-21fc-46c9-c0ef-fa4fd565ec6f"
      },
      "execution_count": 28,
      "outputs": [
        {
          "output_type": "execute_result",
          "data": {
            "text/plain": [
              "    alpha2 alpha3   id                      name      capital       area  \\\n",
              "40      CF    CAF  140  Central African Republic       Bangui   622984.0   \n",
              "41      CG    COG  178     Republic of the Congo  Brazzaville   342000.0   \n",
              "46      CM    CMR  120                  Cameroon      Yaounde   475440.0   \n",
              "75      GA    GAB  266                     Gabon   Libreville   267667.0   \n",
              "87      GQ    GNQ  226         Equatorial Guinea       Malabo    28051.0   \n",
              "215     TD    TCD  148                      Chad    N'Djamena  1284000.0   \n",
              "\n",
              "     population continent  tld currency_code              currency_name  \\\n",
              "40      4666377        AF  .cf           XAF  Central African CFA franc   \n",
              "41      5244363        AF  .cg           XAF  Central African CFA franc   \n",
              "46     25216237        AF  .cm           XAF  Central African CFA franc   \n",
              "75      2119275        AF  .ga           XAF  Central African CFA franc   \n",
              "87      1308974        AF  .gq           XAF  Central African CFA franc   \n",
              "215    15477751        AF  .td           XAF  Central African CFA franc   \n",
              "\n",
              "    currency_symbol phone        languages         neighbours  \n",
              "40               Fr   236   fr-CF,sg,ln,kg  TD,SD,CD,SS,CM,CG  \n",
              "41               Fr   242   fr-CG,kg,ln-CG     CF,GA,CD,CM,AO  \n",
              "46               Fr   237      en-CM,fr-CM  TD,CF,GA,GQ,CG,NG  \n",
              "75               Fr   241            fr-GA           CM,GQ,CG  \n",
              "87               Fr   240      es-GQ,fr,pt              GA,CM  \n",
              "215              Fr   235  fr-TD,ar-TD,sre  NE,LY,CF,SD,CM,NG  "
            ],
            "text/html": [
              "\n",
              "  <div id=\"df-4a311aaf-2656-463b-ba95-f274333fc357\">\n",
              "    <div class=\"colab-df-container\">\n",
              "      <div>\n",
              "<style scoped>\n",
              "    .dataframe tbody tr th:only-of-type {\n",
              "        vertical-align: middle;\n",
              "    }\n",
              "\n",
              "    .dataframe tbody tr th {\n",
              "        vertical-align: top;\n",
              "    }\n",
              "\n",
              "    .dataframe thead th {\n",
              "        text-align: right;\n",
              "    }\n",
              "</style>\n",
              "<table border=\"1\" class=\"dataframe\">\n",
              "  <thead>\n",
              "    <tr style=\"text-align: right;\">\n",
              "      <th></th>\n",
              "      <th>alpha2</th>\n",
              "      <th>alpha3</th>\n",
              "      <th>id</th>\n",
              "      <th>name</th>\n",
              "      <th>capital</th>\n",
              "      <th>area</th>\n",
              "      <th>population</th>\n",
              "      <th>continent</th>\n",
              "      <th>tld</th>\n",
              "      <th>currency_code</th>\n",
              "      <th>currency_name</th>\n",
              "      <th>currency_symbol</th>\n",
              "      <th>phone</th>\n",
              "      <th>languages</th>\n",
              "      <th>neighbours</th>\n",
              "    </tr>\n",
              "  </thead>\n",
              "  <tbody>\n",
              "    <tr>\n",
              "      <th>40</th>\n",
              "      <td>CF</td>\n",
              "      <td>CAF</td>\n",
              "      <td>140</td>\n",
              "      <td>Central African Republic</td>\n",
              "      <td>Bangui</td>\n",
              "      <td>622984.0</td>\n",
              "      <td>4666377</td>\n",
              "      <td>AF</td>\n",
              "      <td>.cf</td>\n",
              "      <td>XAF</td>\n",
              "      <td>Central African CFA franc</td>\n",
              "      <td>Fr</td>\n",
              "      <td>236</td>\n",
              "      <td>fr-CF,sg,ln,kg</td>\n",
              "      <td>TD,SD,CD,SS,CM,CG</td>\n",
              "    </tr>\n",
              "    <tr>\n",
              "      <th>41</th>\n",
              "      <td>CG</td>\n",
              "      <td>COG</td>\n",
              "      <td>178</td>\n",
              "      <td>Republic of the Congo</td>\n",
              "      <td>Brazzaville</td>\n",
              "      <td>342000.0</td>\n",
              "      <td>5244363</td>\n",
              "      <td>AF</td>\n",
              "      <td>.cg</td>\n",
              "      <td>XAF</td>\n",
              "      <td>Central African CFA franc</td>\n",
              "      <td>Fr</td>\n",
              "      <td>242</td>\n",
              "      <td>fr-CG,kg,ln-CG</td>\n",
              "      <td>CF,GA,CD,CM,AO</td>\n",
              "    </tr>\n",
              "    <tr>\n",
              "      <th>46</th>\n",
              "      <td>CM</td>\n",
              "      <td>CMR</td>\n",
              "      <td>120</td>\n",
              "      <td>Cameroon</td>\n",
              "      <td>Yaounde</td>\n",
              "      <td>475440.0</td>\n",
              "      <td>25216237</td>\n",
              "      <td>AF</td>\n",
              "      <td>.cm</td>\n",
              "      <td>XAF</td>\n",
              "      <td>Central African CFA franc</td>\n",
              "      <td>Fr</td>\n",
              "      <td>237</td>\n",
              "      <td>en-CM,fr-CM</td>\n",
              "      <td>TD,CF,GA,GQ,CG,NG</td>\n",
              "    </tr>\n",
              "    <tr>\n",
              "      <th>75</th>\n",
              "      <td>GA</td>\n",
              "      <td>GAB</td>\n",
              "      <td>266</td>\n",
              "      <td>Gabon</td>\n",
              "      <td>Libreville</td>\n",
              "      <td>267667.0</td>\n",
              "      <td>2119275</td>\n",
              "      <td>AF</td>\n",
              "      <td>.ga</td>\n",
              "      <td>XAF</td>\n",
              "      <td>Central African CFA franc</td>\n",
              "      <td>Fr</td>\n",
              "      <td>241</td>\n",
              "      <td>fr-GA</td>\n",
              "      <td>CM,GQ,CG</td>\n",
              "    </tr>\n",
              "    <tr>\n",
              "      <th>87</th>\n",
              "      <td>GQ</td>\n",
              "      <td>GNQ</td>\n",
              "      <td>226</td>\n",
              "      <td>Equatorial Guinea</td>\n",
              "      <td>Malabo</td>\n",
              "      <td>28051.0</td>\n",
              "      <td>1308974</td>\n",
              "      <td>AF</td>\n",
              "      <td>.gq</td>\n",
              "      <td>XAF</td>\n",
              "      <td>Central African CFA franc</td>\n",
              "      <td>Fr</td>\n",
              "      <td>240</td>\n",
              "      <td>es-GQ,fr,pt</td>\n",
              "      <td>GA,CM</td>\n",
              "    </tr>\n",
              "    <tr>\n",
              "      <th>215</th>\n",
              "      <td>TD</td>\n",
              "      <td>TCD</td>\n",
              "      <td>148</td>\n",
              "      <td>Chad</td>\n",
              "      <td>N'Djamena</td>\n",
              "      <td>1284000.0</td>\n",
              "      <td>15477751</td>\n",
              "      <td>AF</td>\n",
              "      <td>.td</td>\n",
              "      <td>XAF</td>\n",
              "      <td>Central African CFA franc</td>\n",
              "      <td>Fr</td>\n",
              "      <td>235</td>\n",
              "      <td>fr-TD,ar-TD,sre</td>\n",
              "      <td>NE,LY,CF,SD,CM,NG</td>\n",
              "    </tr>\n",
              "  </tbody>\n",
              "</table>\n",
              "</div>\n",
              "      <button class=\"colab-df-convert\" onclick=\"convertToInteractive('df-4a311aaf-2656-463b-ba95-f274333fc357')\"\n",
              "              title=\"Convert this dataframe to an interactive table.\"\n",
              "              style=\"display:none;\">\n",
              "        \n",
              "  <svg xmlns=\"http://www.w3.org/2000/svg\" height=\"24px\"viewBox=\"0 0 24 24\"\n",
              "       width=\"24px\">\n",
              "    <path d=\"M0 0h24v24H0V0z\" fill=\"none\"/>\n",
              "    <path d=\"M18.56 5.44l.94 2.06.94-2.06 2.06-.94-2.06-.94-.94-2.06-.94 2.06-2.06.94zm-11 1L8.5 8.5l.94-2.06 2.06-.94-2.06-.94L8.5 2.5l-.94 2.06-2.06.94zm10 10l.94 2.06.94-2.06 2.06-.94-2.06-.94-.94-2.06-.94 2.06-2.06.94z\"/><path d=\"M17.41 7.96l-1.37-1.37c-.4-.4-.92-.59-1.43-.59-.52 0-1.04.2-1.43.59L10.3 9.45l-7.72 7.72c-.78.78-.78 2.05 0 2.83L4 21.41c.39.39.9.59 1.41.59.51 0 1.02-.2 1.41-.59l7.78-7.78 2.81-2.81c.8-.78.8-2.07 0-2.86zM5.41 20L4 18.59l7.72-7.72 1.47 1.35L5.41 20z\"/>\n",
              "  </svg>\n",
              "      </button>\n",
              "      \n",
              "  <style>\n",
              "    .colab-df-container {\n",
              "      display:flex;\n",
              "      flex-wrap:wrap;\n",
              "      gap: 12px;\n",
              "    }\n",
              "\n",
              "    .colab-df-convert {\n",
              "      background-color: #E8F0FE;\n",
              "      border: none;\n",
              "      border-radius: 50%;\n",
              "      cursor: pointer;\n",
              "      display: none;\n",
              "      fill: #1967D2;\n",
              "      height: 32px;\n",
              "      padding: 0 0 0 0;\n",
              "      width: 32px;\n",
              "    }\n",
              "\n",
              "    .colab-df-convert:hover {\n",
              "      background-color: #E2EBFA;\n",
              "      box-shadow: 0px 1px 2px rgba(60, 64, 67, 0.3), 0px 1px 3px 1px rgba(60, 64, 67, 0.15);\n",
              "      fill: #174EA6;\n",
              "    }\n",
              "\n",
              "    [theme=dark] .colab-df-convert {\n",
              "      background-color: #3B4455;\n",
              "      fill: #D2E3FC;\n",
              "    }\n",
              "\n",
              "    [theme=dark] .colab-df-convert:hover {\n",
              "      background-color: #434B5C;\n",
              "      box-shadow: 0px 1px 3px 1px rgba(0, 0, 0, 0.15);\n",
              "      filter: drop-shadow(0px 1px 2px rgba(0, 0, 0, 0.3));\n",
              "      fill: #FFFFFF;\n",
              "    }\n",
              "  </style>\n",
              "\n",
              "      <script>\n",
              "        const buttonEl =\n",
              "          document.querySelector('#df-4a311aaf-2656-463b-ba95-f274333fc357 button.colab-df-convert');\n",
              "        buttonEl.style.display =\n",
              "          google.colab.kernel.accessAllowed ? 'block' : 'none';\n",
              "\n",
              "        async function convertToInteractive(key) {\n",
              "          const element = document.querySelector('#df-4a311aaf-2656-463b-ba95-f274333fc357');\n",
              "          const dataTable =\n",
              "            await google.colab.kernel.invokeFunction('convertToInteractive',\n",
              "                                                     [key], {});\n",
              "          if (!dataTable) return;\n",
              "\n",
              "          const docLinkHtml = 'Like what you see? Visit the ' +\n",
              "            '<a target=\"_blank\" href=https://colab.research.google.com/notebooks/data_table.ipynb>data table notebook</a>'\n",
              "            + ' to learn more about interactive tables.';\n",
              "          element.innerHTML = '';\n",
              "          dataTable['output_type'] = 'display_data';\n",
              "          await google.colab.output.renderOutput(dataTable, element);\n",
              "          const docLink = document.createElement('div');\n",
              "          docLink.innerHTML = docLinkHtml;\n",
              "          element.appendChild(docLink);\n",
              "        }\n",
              "      </script>\n",
              "    </div>\n",
              "  </div>\n",
              "  "
            ]
          },
          "metadata": {},
          "execution_count": 28
        }
      ]
    },
    {
      "cell_type": "code",
      "source": [
        ""
      ],
      "metadata": {
        "id": "u7EMYzYrb1p8"
      },
      "execution_count": 28,
      "outputs": []
    },
    {
      "cell_type": "code",
      "source": [
        "import collections\n",
        "Country = collections.namedtuple(\n",
        "    'Country', ['alpha2', 'alpha3', 'id', 'name', 'capital', 'area',\n",
        "                'population', 'continent', 'tld', 'currency', 'phone', \n",
        "                'languages', 'neighbours']\n",
        ")\n"
      ],
      "metadata": {
        "id": "AI_c2_N9bPHv"
      },
      "execution_count": 29,
      "outputs": []
    },
    {
      "cell_type": "code",
      "source": [
        "country_list = []\n",
        "for c in countries.itertuples(index=False,name='Country'):\n",
        "  country_list.append(\n",
        "      Country(alpha2=c.alpha2,\n",
        "              alpha3=c.alpha3,\n",
        "              id=c.id,\n",
        "              name=c.name,\n",
        "              capital=c.capital,\n",
        "              area=c.area,\n",
        "              population=c.population,\n",
        "              continent=c.capital,\n",
        "              tld = c.tld,\n",
        "              currency=Currency(CurrencyCode=c.currency_code,CurrencyName = c.currency_name, CurrencySymbol=c.currency_symbol),\n",
        "              phone=c.phone,\n",
        "              languages = str(c.languages).split(',') is c.languages is not None,\n",
        "              neighbours= str(c.neighbours).split(',') is c.neighbours is not None\n",
        "      )\n",
        "  )"
      ],
      "metadata": {
        "id": "A2HzenHqb7LC"
      },
      "execution_count": 30,
      "outputs": []
    },
    {
      "cell_type": "code",
      "source": [
        "country_list[7]"
      ],
      "metadata": {
        "colab": {
          "base_uri": "https://localhost:8080/"
        },
        "id": "RCEyInrTcMYz",
        "outputId": "48415036-5ac6-4e13-a5c9-b14c26077c53"
      },
      "execution_count": 31,
      "outputs": [
        {
          "output_type": "execute_result",
          "data": {
            "text/plain": [
              "Country(alpha2='AO', alpha3='AGO', id=24, name='Angola', capital='Luanda', area=1246700.0, population=30809762, continent='Luanda', tld='.ao', currency=Currency(CurrencyCode='AOA', CurrencyName='Angolan kwanza', CurrencySymbol='Kz'), phone='244', languages=False, neighbours=False)"
            ]
          },
          "metadata": {},
          "execution_count": 31
        }
      ]
    },
    {
      "cell_type": "code",
      "execution_count": 35,
      "metadata": {
        "id": "CYx24Xv_Z7gg"
      },
      "outputs": [],
      "source": [
        "data = countries.to_json(orient='table', index=False, indent=2)"
      ]
    },
    {
      "cell_type": "code",
      "execution_count": 36,
      "metadata": {
        "id": "RX2hWTmyZ7gg"
      },
      "outputs": [],
      "source": [
        "with open('countries.json', 'w') as file:\n",
        "    file.write(data)"
      ]
    }
  ],
  "metadata": {
    "kernelspec": {
      "display_name": "Python 3.10.4 ('country-data')",
      "language": "python",
      "name": "python3"
    },
    "language_info": {
      "codemirror_mode": {
        "name": "ipython",
        "version": 3
      },
      "file_extension": ".py",
      "mimetype": "text/x-python",
      "name": "python",
      "nbconvert_exporter": "python",
      "pygments_lexer": "ipython3",
      "version": "3.10.4"
    },
    "orig_nbformat": 4,
    "vscode": {
      "interpreter": {
        "hash": "a534eb040cfe207b7a134f9d5fe0af3dbe1ee7f5b13e8d4779bc122fecc2aa7f"
      }
    },
    "colab": {
      "name": "country_info_processor.ipynb",
      "provenance": [],
      "include_colab_link": true
    }
  },
  "nbformat": 4,
  "nbformat_minor": 0
}